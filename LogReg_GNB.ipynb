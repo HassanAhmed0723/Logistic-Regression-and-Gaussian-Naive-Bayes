{
 "cells": [
  {
   "cell_type": "code",
   "execution_count": 1,
   "id": "96659252",
   "metadata": {},
   "outputs": [],
   "source": [
    "import numpy as np\n",
    "import pandas as pd\n",
    "from sklearn.model_selection import train_test_split\n",
    "from sklearn import preprocessing\n",
    "from sklearn.preprocessing import StandardScaler\n",
    "from sklearn.linear_model import LogisticRegression\n",
    "from sklearn.metrics import accuracy_score\n",
    "from sklearn.metrics import classification_report\n",
    "from sklearn.naive_bayes import GaussianNB\n",
    "import matplotlib.pyplot as plot\n",
    "from matplotlib.pyplot import figure\n",
    "\n",
    "import warnings\n",
    "warnings.filterwarnings('ignore')"
   ]
  },
  {
   "cell_type": "code",
   "execution_count": 2,
   "id": "8833eabe",
   "metadata": {},
   "outputs": [],
   "source": [
    "train = pd.read_csv(\"adult.data\", sep=\", \")\n",
    "train.columns = [\"age\",\"workclass\",\"fnlwgt\",\"education\",\"education_num\",\"marital_status\",\n",
    "                 \"occupation\",\"relationship\",\"race\",\"sex\",\"capital_gain\",\"capital_loss\",\"hours_per_week\",\n",
    "                 \"native_country\",\"income\"]"
   ]
  },
  {
   "cell_type": "code",
   "execution_count": 3,
   "id": "ab078c4a",
   "metadata": {},
   "outputs": [],
   "source": [
    "test = pd.read_csv(\"adult.test\",skiprows=1, sep=\", \")\n",
    "test.columns = [\"age\",\"workclass\",\"fnlwgt\",\"education\",\"education_num\",\"marital_status\",\n",
    "                 \"occupation\",\"relationship\",\"race\",\"sex\",\"capital_gain\",\"capital_loss\",\"hours_per_week\",\n",
    "                 \"native_country\",\"income\"]"
   ]
  },
  {
   "cell_type": "code",
   "execution_count": 4,
   "id": "1b792c2f",
   "metadata": {},
   "outputs": [],
   "source": [
    "df = pd.concat([test.assign(check=\"train\"), train.assign(check=\"test\")])"
   ]
  },
  {
   "cell_type": "code",
   "execution_count": 5,
   "id": "f03d2e01",
   "metadata": {},
   "outputs": [
    {
     "name": "stdout",
     "output_type": "stream",
     "text": [
      "<class 'pandas.core.frame.DataFrame'>\n",
      "Int64Index: 48840 entries, 0 to 32559\n",
      "Data columns (total 16 columns):\n",
      " #   Column          Non-Null Count  Dtype \n",
      "---  ------          --------------  ----- \n",
      " 0   age             48840 non-null  int64 \n",
      " 1   workclass       48840 non-null  object\n",
      " 2   fnlwgt          48840 non-null  int64 \n",
      " 3   education       48840 non-null  object\n",
      " 4   education_num   48840 non-null  int64 \n",
      " 5   marital_status  48840 non-null  object\n",
      " 6   occupation      48840 non-null  object\n",
      " 7   relationship    48840 non-null  object\n",
      " 8   race            48840 non-null  object\n",
      " 9   sex             48840 non-null  object\n",
      " 10  capital_gain    48840 non-null  int64 \n",
      " 11  capital_loss    48840 non-null  int64 \n",
      " 12  hours_per_week  48840 non-null  int64 \n",
      " 13  native_country  48840 non-null  object\n",
      " 14  income          48840 non-null  object\n",
      " 15  check           48840 non-null  object\n",
      "dtypes: int64(6), object(10)\n",
      "memory usage: 6.3+ MB\n"
     ]
    }
   ],
   "source": [
    "df.info()"
   ]
  },
  {
   "cell_type": "code",
   "execution_count": 6,
   "id": "cdcf2c9b",
   "metadata": {},
   "outputs": [
    {
     "name": "stdout",
     "output_type": "stream",
     "text": [
      "<class 'pandas.core.frame.DataFrame'>\n",
      "Int64Index: 48840 entries, 0 to 32559\n",
      "Data columns (total 16 columns):\n",
      " #   Column          Non-Null Count  Dtype \n",
      "---  ------          --------------  ----- \n",
      " 0   age             48840 non-null  int64 \n",
      " 1   workclass       46041 non-null  object\n",
      " 2   fnlwgt          48840 non-null  int64 \n",
      " 3   education       48840 non-null  object\n",
      " 4   education_num   48840 non-null  int64 \n",
      " 5   marital_status  48840 non-null  object\n",
      " 6   occupation      46031 non-null  object\n",
      " 7   relationship    48840 non-null  object\n",
      " 8   race            48840 non-null  object\n",
      " 9   sex             48840 non-null  object\n",
      " 10  capital_gain    48840 non-null  int64 \n",
      " 11  capital_loss    48840 non-null  int64 \n",
      " 12  hours_per_week  48840 non-null  int64 \n",
      " 13  native_country  47983 non-null  object\n",
      " 14  income          48840 non-null  object\n",
      " 15  check           48840 non-null  object\n",
      "dtypes: int64(6), object(10)\n",
      "memory usage: 6.3+ MB\n"
     ]
    }
   ],
   "source": [
    "#Data PreProcessing\n",
    "\n",
    "df[df == '?'] = np.nan\n",
    "df.info()"
   ]
  },
  {
   "cell_type": "code",
   "execution_count": 7,
   "id": "6758d62c",
   "metadata": {},
   "outputs": [
    {
     "data": {
      "text/plain": [
       "age                  0\n",
       "workclass         2799\n",
       "fnlwgt               0\n",
       "education            0\n",
       "education_num        0\n",
       "marital_status       0\n",
       "occupation        2809\n",
       "relationship         0\n",
       "race                 0\n",
       "sex                  0\n",
       "capital_gain         0\n",
       "capital_loss         0\n",
       "hours_per_week       0\n",
       "native_country     857\n",
       "income               0\n",
       "check                0\n",
       "dtype: int64"
      ]
     },
     "execution_count": 7,
     "metadata": {},
     "output_type": "execute_result"
    }
   ],
   "source": [
    "df.isnull().sum()"
   ]
  },
  {
   "cell_type": "code",
   "execution_count": 8,
   "id": "7599ef4c",
   "metadata": {},
   "outputs": [
    {
     "data": {
      "text/plain": [
       "age               0\n",
       "workclass         0\n",
       "fnlwgt            0\n",
       "education         0\n",
       "education_num     0\n",
       "marital_status    0\n",
       "occupation        0\n",
       "relationship      0\n",
       "race              0\n",
       "sex               0\n",
       "capital_gain      0\n",
       "capital_loss      0\n",
       "hours_per_week    0\n",
       "native_country    0\n",
       "income            0\n",
       "check             0\n",
       "dtype: int64"
      ]
     },
     "execution_count": 8,
     "metadata": {},
     "output_type": "execute_result"
    }
   ],
   "source": [
    "#Imputing Mode inplace of Missing Values\n",
    "\n",
    "for col in ['workclass', 'occupation', 'native_country']:\n",
    "    df[col].fillna(df[col].mode()[0], inplace=True)\n",
    "    \n",
    "df.isnull().sum()"
   ]
  },
  {
   "cell_type": "code",
   "execution_count": 9,
   "id": "a64d48ac",
   "metadata": {},
   "outputs": [],
   "source": [
    "X = df.drop(['income'], axis=1)\n",
    "y = df['income']"
   ]
  },
  {
   "cell_type": "code",
   "execution_count": 10,
   "id": "cf47697e",
   "metadata": {},
   "outputs": [],
   "source": [
    "X_train, X_test, y_train, y_test = train_test_split(X, y, test_size = 0.3, random_state = 0)"
   ]
  },
  {
   "cell_type": "code",
   "execution_count": 11,
   "id": "67692269",
   "metadata": {},
   "outputs": [],
   "source": [
    "#LabelEncoding\n",
    "\n",
    "categorical = ['workclass', 'education', 'marital_status', 'occupation', 'relationship', 'race', 'sex', 'native_country'\n",
    "               ,'check']\n",
    "for feature in categorical:\n",
    "    le = preprocessing.LabelEncoder()\n",
    "    X_train[feature] = le.fit_transform(X_train[feature])\n",
    "    X_test[feature] = le.transform(X_test[feature])"
   ]
  },
  {
   "cell_type": "code",
   "execution_count": 12,
   "id": "94d1627d",
   "metadata": {},
   "outputs": [],
   "source": [
    "#FeatureScaling\n",
    "\n",
    "scaler = StandardScaler()\n",
    "X_train = pd.DataFrame(scaler.fit_transform(X_train), columns = X.columns)\n",
    "X_test = pd.DataFrame(scaler.transform(X_test), columns = X.columns)"
   ]
  },
  {
   "cell_type": "code",
   "execution_count": 13,
   "id": "52182edb",
   "metadata": {},
   "outputs": [],
   "source": [
    "train, test = df[df[\"check\"].eq(\"train\")], df[df[\"check\"].eq(\"test\")]"
   ]
  },
  {
   "cell_type": "code",
   "execution_count": 14,
   "id": "762077a2",
   "metadata": {},
   "outputs": [
    {
     "name": "stdout",
     "output_type": "stream",
     "text": [
      "LR Training Accuracy Score:  0.8251140751140751\n",
      "LR Testing Accuracy Score:  0.8261670761670762\n",
      "Logistic Regression Accuracy Score: 0.8261670761670762\n",
      "              precision    recall  f1-score   support\n",
      "\n",
      "       <=50K       0.85      0.94      0.89      7405\n",
      "      <=50K.       0.85      0.94      0.89      3714\n",
      "        >50K       0.72      0.46      0.56      2370\n",
      "       >50K.       0.72      0.45      0.55      1163\n",
      "\n",
      "    accuracy                           0.83     14652\n",
      "   macro avg       0.78      0.70      0.72     14652\n",
      "weighted avg       0.82      0.83      0.81     14652\n",
      "\n"
     ]
    }
   ],
   "source": [
    "#Training and Testing Logistic Regression Model\n",
    "\n",
    "logist_reg = LogisticRegression()\n",
    "logist_reg.fit(X_train, y_train)\n",
    "y_pred = logist_reg.predict(X_test)\n",
    "lr_accuracy = accuracy_score(y_test, y_pred)\n",
    "lr_train_acc = logist_reg.score(X_train, y_train)\n",
    "print(\"LR Training Accuracy Score: \", lr_train_acc)\n",
    "print(\"LR Testing Accuracy Score: \", logist_reg.score(X_test, y_test))\n",
    "print(\"Logistic Regression Accuracy Score:\", lr_accuracy)\n",
    "print(classification_report(y_test, y_pred))"
   ]
  },
  {
   "cell_type": "code",
   "execution_count": 15,
   "id": "7990462b",
   "metadata": {},
   "outputs": [
    {
     "name": "stdout",
     "output_type": "stream",
     "text": [
      "GNB Training Accuracy Score:  0.8067450567450567\n",
      "GNB Testing Accuracy Score:  0.8098553098553098\n",
      "Gaussian Naive Bayes Accuracy Score: 0.8098553098553098\n",
      "              precision    recall  f1-score   support\n",
      "\n",
      "       <=50K       0.82      0.95      0.88      7405\n",
      "      <=50K.       0.82      0.96      0.88      3714\n",
      "        >50K       0.71      0.37      0.48      2370\n",
      "       >50K.       0.71      0.34      0.46      1163\n",
      "\n",
      "    accuracy                           0.81     14652\n",
      "   macro avg       0.77      0.65      0.68     14652\n",
      "weighted avg       0.80      0.81      0.79     14652\n",
      "\n"
     ]
    }
   ],
   "source": [
    "#Training and Testing Gaussian Naive Bayes Model\n",
    "\n",
    "nb = GaussianNB()\n",
    "nb.fit(X_train, y_train)\n",
    "nb_accuracy = nb.score(X_test, y_test)\n",
    "nb_train_acc = nb.score(X_train, y_train)\n",
    "print(\"GNB Training Accuracy Score: \", nb_train_acc)\n",
    "print(\"GNB Testing Accuracy Score: \", nb.score(X_test, y_test))\n",
    "print(\"Gaussian Naive Bayes Accuracy Score:\", nb_accuracy)\n",
    "y_pred = nb.predict(X_test)\n",
    "print(classification_report(y_test, y_pred))"
   ]
  },
  {
   "cell_type": "code",
   "execution_count": 16,
   "id": "31974100",
   "metadata": {},
   "outputs": [
    {
     "data": {
      "image/png": "[encoded data removed]",
      "text/plain": [
       "<Figure size 560x480 with 1 Axes>"
      ]
     },
     "metadata": {
      "needs_background": "light"
     },
     "output_type": "display_data"
    }
   ],
   "source": [
    "#Plotting the Accuracy Scores of Both Models\n",
    "\n",
    "figure(figsize=(7, 6), dpi=80)\n",
    "plot.xlim(0.80, 0.85)\n",
    "plot.ylim(0.80, 0.85)\n",
    "plot.scatter(lr_train_acc,lr_accuracy)\n",
    "plot.scatter(nb_train_acc,nb_accuracy)\n",
    "plot.title('Accuracy scores of Logistic Regression and Naive Bayes')\n",
    "plot.xlabel('Accuracy Score')\n",
    "plot.ylabel('Accuracy Score')\n",
    "plot.legend([\"LR Accuracy\" , \"NB Accuracy\"])\n",
    "plot.show()"
   ]
  },
  {
   "cell_type": "code",
   "execution_count": null,
   "id": "a0cbe2cf",
   "metadata": {},
   "outputs": [],
   "source": []
  }
 ],
 "metadata": {
  "kernelspec": {
   "display_name": "Python 3 (ipykernel)",
   "language": "python",
   "name": "python3"
  },
  "language_info": {
   "codemirror_mode": {
    "name": "ipython",
    "version": 3
   },
   "file_extension": ".py",
   "mimetype": "text/x-python",
   "name": "python",
   "nbconvert_exporter": "python",
   "pygments_lexer": "ipython3",
   "version": "3.9.7"
  }
 },
 "nbformat": 4,
 "nbformat_minor": 5
}
